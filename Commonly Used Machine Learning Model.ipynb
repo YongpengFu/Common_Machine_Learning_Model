{
 "cells": [
  {
   "cell_type": "code",
   "execution_count": 1,
   "metadata": {},
   "outputs": [
    {
     "name": "stderr",
     "output_type": "stream",
     "text": [
      "/Users/yongpengfu/opt/anaconda3/lib/python3.8/site-packages/statsmodels/compat/pandas.py:65: FutureWarning: pandas.Int64Index is deprecated and will be removed from pandas in a future version. Use pandas.Index with the appropriate dtype instead.\n",
      "  from pandas import Int64Index as NumericIndex\n"
     ]
    }
   ],
   "source": [
    "import pandas as pd \n",
    "import numpy as np \n",
    "%matplotlib inline \n",
    "import matplotlib.pyplot as plt \n",
    "import scipy as sc \n",
    "import seaborn as sns \n",
    "import plotly.graph_objects as go \n",
    "import plotly.express as px \n",
    "plt.rcParams[\"figure.figsize\"] = [10, 5] "
   ]
  },
  {
   "cell_type": "markdown",
   "metadata": {},
   "source": [
    "`Low Bias models`: k-Nearest Neighbors (k=1), Decision Trees and Support Vector Machines.\n",
    "\n",
    "`High Bias models`: Linear Regression and Logistic Regression.\n",
    "\n",
    "`Low Variance models`: Linear Regression and Logistic Regression.\n",
    "\n",
    "`High Variance models`: k-Nearest Neighbors (k=1), Decision Trees and Support Vector Machines.\n",
    "\n",
    "`What is Irreducible Error?`  \n",
    "Irreducible Error is the error that cannot be reduced irrespective of the models. It is a measure of the amount of noise in our data due to unknown variables. This error cannot be removed.\n",
    "\n",
    "`How are Bias, Variance and Irreducible Errors are related?`  \n",
    "Error in a Machine Learning model is the sum of Reducible and Irreducible errors.  \n",
    "Error = Reducible Error + Irreducible Error  \n",
    "Reducible Error is the sum of squared Bias and Variance.  \n",
    "Reducible Error = Bias² + Variance  \n",
    "Combining the above two equations, we get  \n",
    "Error = Bias² + Variance + Irreducible Error\n",
    "\n",
    "`Overfitting`: It is a Low Bias and High Variance model. Generally, Decision trees are prone to Overfitting.  \n",
    "`Underfitting`: It is a High Bias and Low Variance model. Generally, Linear and Logistic regressions are prone to Underfitting.\n"
   ]
  },
  {
   "cell_type": "markdown",
   "metadata": {},
   "source": [
    "# Supervised Learning"
   ]
  },
  {
   "cell_type": "markdown",
   "metadata": {},
   "source": [
    "## Regression\n",
    "## 1. Regression using Support Vector Machines (SVMs)"
   ]
  },
  {
   "cell_type": "code",
   "execution_count": 2,
   "metadata": {},
   "outputs": [
    {
     "name": "stdout",
     "output_type": "stream",
     "text": [
      "MSE: 82.80\n"
     ]
    },
    {
     "data": {
      "text/plain": [
       "0.013173874942115193"
      ]
     },
     "execution_count": 2,
     "metadata": {},
     "output_type": "execute_result"
    }
   ],
   "source": [
    "from sklearn.datasets import load_boston\n",
    "from sklearn.model_selection import train_test_split\n",
    "#mean_squared_error is for regression\n",
    "#accuracy_score, confusion_matrix are for classification\n",
    "from sklearn.metrics import mean_squared_error\n",
    "from sklearn.svm import SVR\n",
    "\n",
    "def main():\n",
    "    #load the data\n",
    "    X, y = load_boston(return_X_y = True)\n",
    "    #split the data\n",
    "    X_train, X_test, y_train, y_test = train_test_split(X,y,test_size = 0.2)\n",
    "    #call the model\n",
    "    reg = SVR(kernel = \"rbf\", C = 1.0, gamma = \"auto\")\n",
    "    #fit the data\n",
    "    reg.fit(X_train, y_train)\n",
    "    #predict\n",
    "    y_pred = reg.predict(X_test)\n",
    "    #metrics: the coefficient of determination of the prediction.\n",
    "    score = reg.score(X_test, y_test)\n",
    "    #metrics: MSE (mean squre error)\n",
    "    print('MSE: %.2f'%(mean_squared_error(y_test, y_pred)))\n",
    "    return score\n",
    "main()"
   ]
  },
  {
   "cell_type": "markdown",
   "metadata": {},
   "source": [
    "## Regression\n",
    "## 2. Regression using LinearRegression"
   ]
  },
  {
   "cell_type": "code",
   "execution_count": 3,
   "metadata": {},
   "outputs": [
    {
     "name": "stdout",
     "output_type": "stream",
     "text": [
      "MSE: 33.45\n"
     ]
    },
    {
     "data": {
      "text/plain": [
       "0.59"
      ]
     },
     "execution_count": 3,
     "metadata": {},
     "output_type": "execute_result"
    }
   ],
   "source": [
    "from sklearn.datasets import load_boston\n",
    "from sklearn.model_selection import train_test_split\n",
    "#mean_squared_error is for regression\n",
    "from sklearn.metrics import mean_squared_error\n",
    "from sklearn.linear_model import LinearRegression\n",
    "\n",
    "def main():\n",
    "    X, y = load_boston(return_X_y = True)\n",
    "    X_train, X_test, y_train, y_test = train_test_split(X,y,test_size = 0.2, random_state = 0)\n",
    "    #initiate the model\n",
    "    model = LinearRegression()\n",
    "    #fit the model\n",
    "    model.fit(X_train, y_train)\n",
    "    #Predict\n",
    "    y_pred = model.predict(X_test)\n",
    "    #R square\n",
    "    score = model.score(X_test, y_test)\n",
    "    print('MSE: %.2f'%(mean_squared_error(y_test, y_pred)))\n",
    "    return (round(score,2))\n",
    "main()"
   ]
  },
  {
   "cell_type": "code",
   "execution_count": 4,
   "metadata": {},
   "outputs": [
    {
     "name": "stdout",
     "output_type": "stream",
     "text": [
      "MSE:0.42\n",
      "[ 1.79 -1.34]\n"
     ]
    },
    {
     "data": {
      "text/plain": [
       "0.87"
      ]
     },
     "execution_count": 4,
     "metadata": {},
     "output_type": "execute_result"
    }
   ],
   "source": [
    "from sklearn.datasets import load_iris\n",
    "from sklearn.model_selection import train_test_split\n",
    "#mean_squared_error is for regression\n",
    "from sklearn.metrics import mean_squared_error\n",
    "from sklearn.linear_model import LinearRegression\n",
    "\n",
    "def main():\n",
    "    X, _ = load_iris(return_X_y = True)\n",
    "    sepal = X[:,:2]\n",
    "    petal_length = X[:,2]\n",
    "    sepal_train, sepal_test, petal_train, petal_test = train_test_split(sepal, petal_length,\n",
    "                                                                       test_size = 0.2)\n",
    "    #initiate the model\n",
    "    model = LinearRegression()\n",
    "    #fit the model\n",
    "    model.fit(sepal_train, petal_train)\n",
    "    #predict\n",
    "    petal_pred = model.predict(sepal_test)\n",
    "    #R square\n",
    "    score = model.score(sepal_test, petal_test)\n",
    "    #MSE\n",
    "    print('MSE:%.2f'%(mean_squared_error(petal_test,petal_pred)))\n",
    "    print( np.around(model.coef_, decimals=2))\n",
    "    return(round(score,2))\n",
    "main()"
   ]
  },
  {
   "cell_type": "markdown",
   "metadata": {},
   "source": [
    "## Regression\n",
    "## 3. Linear Regression Feature Importance"
   ]
  },
  {
   "cell_type": "code",
   "execution_count": 5,
   "metadata": {},
   "outputs": [
    {
     "name": "stdout",
     "output_type": "stream",
     "text": [
      "Feature: 0, Score: -0.00000\n",
      "Feature: 1, Score: 12.44483\n",
      "Feature: 2, Score: -0.00000\n",
      "Feature: 3, Score: -0.00000\n",
      "Feature: 4, Score: 93.32225\n",
      "Feature: 5, Score: 86.50811\n",
      "Feature: 6, Score: 26.74607\n",
      "Feature: 7, Score: 3.28535\n",
      "Feature: 8, Score: -0.00000\n",
      "Feature: 9, Score: 0.00000\n"
     ]
    },
    {
     "data": {
      "image/png": "[encoded data removed]",
      "text/plain": [
       "<Figure size 720x360 with 1 Axes>"
      ]
     },
     "metadata": {
      "needs_background": "light"
     },
     "output_type": "display_data"
    }
   ],
   "source": [
    "from sklearn.datasets import make_regression\n",
    "from sklearn.linear_model import LinearRegression\n",
    "from matplotlib import pyplot\n",
    "# define dataset\n",
    "X, y = make_regression(n_samples=1000, n_features=10, n_informative=5, random_state=1)\n",
    "# define the model\n",
    "model = LinearRegression()\n",
    "# fit the model\n",
    "model.fit(X, y)\n",
    "# get importance\n",
    "importance = model.coef_\n",
    "# summarize feature importance\n",
    "for i,v in enumerate(importance):\n",
    "\tprint('Feature: %0d, Score: %.5f' % (i,v))\n",
    "# plot feature importance\n",
    "pyplot.bar([x for x in range(len(importance))], importance)\n",
    "pyplot.show()"
   ]
  },
  {
   "cell_type": "markdown",
   "metadata": {},
   "source": [
    "## Regression\n",
    "## 5. k-Nearst Neighbor (KNN) Regression"
   ]
  },
  {
   "cell_type": "code",
   "execution_count": 7,
   "metadata": {},
   "outputs": [
    {
     "name": "stdout",
     "output_type": "stream",
     "text": [
      "MSE: 48.60\n",
      "R square = 0.40\n"
     ]
    }
   ],
   "source": [
    "from sklearn.datasets import load_boston\n",
    "from sklearn.model_selection import train_test_split\n",
    "from sklearn.neighbors import KNeighborsRegressor\n",
    "from sklearn.metrics import mean_squared_error\n",
    "\n",
    "#load the data\n",
    "X, y = load_boston(return_X_y = True)\n",
    "X_train, X_test, y_train, y_test = train_test_split(X,y,test_size = 0.2, random_state = 0)\n",
    "#initiate the model\n",
    "model = KNeighborsRegressor(n_neighbors = 3)\n",
    "#fit the model\n",
    "model.fit(X_train, y_train)\n",
    "#Predict\n",
    "y_pred = model.predict(X_test)\n",
    "#R square\n",
    "score = model.score(X_test, y_test)\n",
    "print('MSE: %.2f'%(mean_squared_error(y_test, y_pred)))\n",
    "print('R square = %.2f'%model.score(X_test, y_test))"
   ]
  },
  {
   "cell_type": "markdown",
   "metadata": {},
   "source": [
    "## Regression\n",
    "## 6. Tree Decision Regression and Random Forest Regression"
   ]
  },
  {
   "cell_type": "code",
   "execution_count": 8,
   "metadata": {},
   "outputs": [
    {
     "name": "stdout",
     "output_type": "stream",
     "text": [
      "MSE: 29.08\n",
      "MAE: 3.37\n",
      "R square = 0.65\n"
     ]
    }
   ],
   "source": [
    "#Tree Decision Regression\n",
    "from sklearn.datasets import load_boston\n",
    "from sklearn.model_selection import train_test_split\n",
    "from sklearn.tree import DecisionTreeRegressor\n",
    "from sklearn.metrics import mean_squared_error, mean_absolute_error\n",
    "\n",
    "#load the data\n",
    "X, y = load_boston(return_X_y = True)\n",
    "X_train, X_test, y_train, y_test = train_test_split(X,y,test_size = 0.3, random_state = 0)\n",
    "#initiate the model\n",
    "model = DecisionTreeRegressor(criterion = 'mae', random_state = 0)\n",
    "#fit the model\n",
    "model.fit(X_train, y_train)\n",
    "#Predict\n",
    "y_pred = model.predict(X_test)\n",
    "#R square\n",
    "score = model.score(X_test, y_test)\n",
    "print('MSE: %.2f'%(mean_squared_error(y_test, y_pred)))\n",
    "print('MAE: %.2f'%(mean_absolute_error(y_test, y_pred)))\n",
    "print('R square = %.2f'%model.score(X_test, y_test))"
   ]
  },
  {
   "cell_type": "code",
   "execution_count": 9,
   "metadata": {},
   "outputs": [
    {
     "name": "stdout",
     "output_type": "stream",
     "text": [
      "MSE: 15.23\n",
      "MAE: 2.50\n",
      "r2 square = 0.82\n",
      "R square = 0.82\n"
     ]
    }
   ],
   "source": [
    "#Random Forest Regression\n",
    "from sklearn.datasets import load_boston\n",
    "from sklearn.model_selection import train_test_split\n",
    "from sklearn.ensemble import RandomForestRegressor\n",
    "from sklearn.metrics import mean_squared_error, mean_absolute_error, r2_score\n",
    "\n",
    "#load the data\n",
    "X, y = load_boston(return_X_y = True)\n",
    "X_train, X_test, y_train, y_test = train_test_split(X,y,test_size = 0.3, random_state = 0)\n",
    "#initiate the model\n",
    "model = RandomForestRegressor(n_estimators = 25, criterion = 'mae', random_state = 0)\n",
    "#fit the model\n",
    "model.fit(X_train, y_train)\n",
    "#Predict\n",
    "y_pred = model.predict(X_test)\n",
    "#R square\n",
    "score = model.score(X_test, y_test)\n",
    "print('MSE: %.2f'%(mean_squared_error(y_test, y_pred)))\n",
    "print('MAE: %.2f'%(mean_absolute_error(y_test, y_pred)))\n",
    "print('r2 square = %.2f'%r2_score(y_test, y_pred))\n",
    "print('R square = %.2f'%model.score(X_test, y_test))"
   ]
  },
  {
   "cell_type": "code",
   "execution_count": null,
   "metadata": {},
   "outputs": [],
   "source": []
  },
  {
   "cell_type": "markdown",
   "metadata": {},
   "source": [
    "## Classification\n",
    "## 1. Logistic regression"
   ]
  },
  {
   "cell_type": "code",
   "execution_count": 10,
   "metadata": {},
   "outputs": [
    {
     "name": "stdout",
     "output_type": "stream",
     "text": [
      "0.98\n",
      "0.98\n",
      "0.99\n"
     ]
    }
   ],
   "source": [
    "from sklearn.datasets import load_iris\n",
    "from sklearn.model_selection import train_test_split\n",
    "#mean_squared_error is for regression\n",
    "#accuracy_score, confusion_matrix are for classification\n",
    "from sklearn.metrics import mean_squared_error,precision_score,accuracy_score, confusion_matrix\n",
    "from sklearn.linear_model import LogisticRegression\n",
    "\n",
    "#Load data\n",
    "X, y = load_iris(return_X_y = True)\n",
    "#split data\n",
    "X_train, X_test, y_train, y_test = train_test_split(X,y, test_size = 0.33)\n",
    "#initialize and fit the model\n",
    "model = LogisticRegression(solver = 'lbfgs', multi_class = 'multinomial', max_iter = 1000)\n",
    "model.fit(X_train, y_train)\n",
    "#predict the test dataset\n",
    "y_pred = model.predict(X_test)\n",
    "\n",
    "#precision_score\n",
    "#each classes’s contribution to the average is weighted by its size\n",
    "print('%.2f'%precision_score(y_test, y_pred, average = 'weighted'))\n",
    "#all samples equally contribute to the final averaged metric\n",
    "print('%.2f'%precision_score(y_test, y_pred, average = 'micro'))\n",
    "#all classes equally contribute to the final averaged metric\n",
    "print('%.2f'%precision_score(y_test, y_pred, average = 'macro'))\n"
   ]
  },
  {
   "cell_type": "markdown",
   "metadata": {},
   "source": [
    "## Classification\n",
    "## 1. K-nearest Neighbos Classification (KNN)"
   ]
  },
  {
   "cell_type": "code",
   "execution_count": 11,
   "metadata": {},
   "outputs": [
    {
     "name": "stdout",
     "output_type": "stream",
     "text": [
      "1.0\n"
     ]
    }
   ],
   "source": [
    "from sklearn.datasets import load_iris\n",
    "from sklearn.model_selection import train_test_split\n",
    "from sklearn.neighbors import KNeighborsClassifier\n",
    "#load the dataset\n",
    "X,y = load_iris(return_X_y = True)\n",
    "#split the dataset\n",
    "X_train, X_test, y_train, y_test = train_test_split(X,y,test_size = 0.2)\n",
    "#initiate and fit the model\n",
    "model = KNeighborsClassifier(n_neighbors=3)\n",
    "model.fit(X_train, y_train)\n",
    "#predict \n",
    "y_pred = model.predict(X_test)\n",
    "#accuracy score\n",
    "print(model.score(X_test, y_test))"
   ]
  },
  {
   "cell_type": "code",
   "execution_count": 12,
   "metadata": {
    "scrolled": false
   },
   "outputs": [
    {
     "name": "stdout",
     "output_type": "stream",
     "text": [
      "0.72\n",
      "[[ 4 21]\n",
      " [ 7 68]]\n"
     ]
    }
   ],
   "source": [
    "import pandas as pd\n",
    "import numpy as np\n",
    "from sklearn.datasets import load_iris\n",
    "from sklearn.model_selection import train_test_split\n",
    "from sklearn.neighbors import KNeighborsClassifier\n",
    "from sklearn.preprocessing import LabelEncoder, OrdinalEncoder\n",
    "#mean_squared_error is for regression\n",
    "#accuracy_score, confusion_matrix are for classification\n",
    "from sklearn.metrics import mean_squared_error,precision_score,accuracy_score, confusion_matrix\n",
    "\n",
    "\n",
    "#using pandas to do the exercise\n",
    "dataset_31_credit_g = pd.read_csv(\"/Users/yongpengfu/Desktop/AltaML/Encoding/dataset_31_credit-g.csv\")\n",
    "y = dataset_31_credit_g.iloc[:,-1].values\n",
    "encoded_y = LabelEncoder().fit_transform(y)\n",
    "selected_X = dataset_31_credit_g.iloc[:,[0,1,2,3,4,7,10]].values\n",
    "selected_X[:,[0,2,3]] = OrdinalEncoder().fit_transform(selected_X[:,[0,2,3]])\n",
    "#split the dataset\n",
    "X_train, X_test, y_train, y_test = train_test_split(selected_X, encoded_y, test_size = 0.1, random_state = 0)\n",
    "X_train, X_val, y_train, y_val = train_test_split(selected_X, encoded_y, test_size = 0.11, random_state = 0)\n",
    "#initiate and fit the model\n",
    "model = KNeighborsClassifier(n_neighbors=11)\n",
    "model.fit(X_train, y_train)\n",
    "#predict \n",
    "y_pred = model.predict(X_test)\n",
    "#accuracy score\n",
    "print(model.score(X_test, y_test))\n",
    "#confusion_matrix\n",
    "print(confusion_matrix(y_test, y_pred))"
   ]
  },
  {
   "cell_type": "markdown",
   "metadata": {},
   "source": [
    "## Classification\n",
    "## 2. Classification using Support Vector Machines (SVMs)"
   ]
  },
  {
   "cell_type": "code",
   "execution_count": 13,
   "metadata": {},
   "outputs": [
    {
     "name": "stdout",
     "output_type": "stream",
     "text": [
      "accuracy score = 0.77, precision score = 0.78\n"
     ]
    }
   ],
   "source": [
    "from sklearn.datasets import load_iris\n",
    "#now you are using Support Vector Classifier (SVC) rather than Support Vector Regression (SVR)\n",
    "from sklearn.model_selection import train_test_split\n",
    "from sklearn.svm import SVC\n",
    "from sklearn.metrics import confusion_matrix, precision_score\n",
    "\n",
    "#load the data\n",
    "X,y = load_iris(return_X_y = True)\n",
    "#initiate the classifier\n",
    "classifier = SVC(kernel = 'linear', C = 1.0, gamma = 'auto')\n",
    "#fit the classifier\n",
    "classifier.fit(X_train, y_train)\n",
    "#predict\n",
    "y_pred = classifier.predict(X_test)\n",
    "#accuracy score, precision score\n",
    "print('accuracy score = %.2f, precision score = %.2f'%(precision_score(y_test,y_pred,\n",
    "                                                                      average = 'weighted'),\n",
    "                                                      classifier.score(X_test, y_test)))"
   ]
  },
  {
   "cell_type": "markdown",
   "metadata": {},
   "source": [
    "## Classification\n",
    "## 3. Tree Based ALgorithms"
   ]
  },
  {
   "cell_type": "code",
   "execution_count": 14,
   "metadata": {},
   "outputs": [
    {
     "name": "stdout",
     "output_type": "stream",
     "text": [
      "Accuracy = 0.96 and Recall score = 0.96\n"
     ]
    }
   ],
   "source": [
    "from sklearn.datasets import load_iris\n",
    "from sklearn.model_selection import train_test_split\n",
    "from sklearn.tree import DecisionTreeClassifier\n",
    "from sklearn.metrics import recall_score\n",
    "\n",
    "#load the data\n",
    "X,y = load_iris(return_X_y = True)\n",
    "X_train, X_test, y_train, y_test = train_test_split(X,y,test_size = 0.33, random_state = 0)\n",
    "#initiate the model\n",
    "model = DecisionTreeClassifier(criterion = 'entropy')\n",
    "#fit the model\n",
    "model.fit(X_train, y_train)\n",
    "#predict\n",
    "y_pred = model.predict(X_test)\n",
    "#accuracy score, recall score\n",
    "print(\"Accuracy = %.2f and Recall score = %.2f\"%(precision_score(y_test,y_pred,\n",
    "                                                                      average = 'weighted'),\n",
    "                                                      model.score(X_test, y_test)))"
   ]
  },
  {
   "cell_type": "markdown",
   "metadata": {},
   "source": [
    "### 3.1 RandomForest Classifer"
   ]
  },
  {
   "cell_type": "code",
   "execution_count": 15,
   "metadata": {},
   "outputs": [
    {
     "name": "stdout",
     "output_type": "stream",
     "text": [
      "Accuracy = 0.96 and Recall score = 0.96\n"
     ]
    }
   ],
   "source": [
    "from sklearn.datasets import load_iris\n",
    "from sklearn.model_selection import train_test_split\n",
    "from sklearn.ensemble import RandomForestClassifier\n",
    "from sklearn.metrics import recall_score\n",
    "\n",
    "#load the data\n",
    "X,y = load_iris(return_X_y = True)\n",
    "X_train, X_test, y_train, y_test = train_test_split(X,y,test_size = 0.33, random_state = 0)\n",
    "#initiate the model\n",
    "model = RandomForestClassifier(n_estimators=100, criterion='gini')\n",
    "#fit the model\n",
    "model.fit(X_train, y_train)\n",
    "#predict\n",
    "y_pred = model.predict(X_test)\n",
    "#accuracy score, recall score\n",
    "print(\"Accuracy = %.2f and Recall score = %.2f\"%(precision_score(y_test,y_pred,\n",
    "                                                                      average = 'weighted'),\n",
    "                                                      model.score(X_test, y_test)))"
   ]
  },
  {
   "cell_type": "code",
   "execution_count": null,
   "metadata": {},
   "outputs": [],
   "source": []
  },
  {
   "cell_type": "code",
   "execution_count": null,
   "metadata": {},
   "outputs": [],
   "source": []
  },
  {
   "cell_type": "code",
   "execution_count": null,
   "metadata": {},
   "outputs": [],
   "source": []
  },
  {
   "cell_type": "markdown",
   "metadata": {},
   "source": [
    "## Preprocessing\n",
    "### 1. LabelEncoder (for target) and OneHotEncoder (for features)"
   ]
  },
  {
   "cell_type": "markdown",
   "metadata": {},
   "source": [
    "* Steps of data preprocessing:\n",
    "    * Cleaning: \n",
    "    * Encoding;\n",
    "    * Scaling; and\n",
    "    * Feature reduction."
   ]
  },
  {
   "cell_type": "code",
   "execution_count": 16,
   "metadata": {},
   "outputs": [
    {
     "name": "stdout",
     "output_type": "stream",
     "text": [
      "(8124,)\n",
      "(8124, 14)\n"
     ]
    }
   ],
   "source": [
    "# LabelEncoder and OneHotEncoder\n",
    "import pandas as pd\n",
    "import numpy as np\n",
    "from sklearn.preprocessing import LabelEncoder\n",
    "from sklearn.preprocessing import OneHotEncoder\n",
    "\n",
    "#get the data\n",
    "mushroom = pd.read_csv(\"/Users/yongpengfu/Desktop/AltaML/Encoding/mushroom_csv.csv\")\n",
    "y = mushroom.iloc[:,-1].values #convert it to array\n",
    "X = mushroom.iloc[:, 1:3].values #convert it to array\n",
    "\n",
    "#initiate the encoder\n",
    "LabelEncoder = LabelEncoder()\n",
    "OneHotEncoder = OneHotEncoder() #NO na value allowed in the record\n",
    "\n",
    "#Combine fitting and encoding\n",
    "encoded_y = LabelEncoder.fit_transform(y)\n",
    "encoded_X = OneHotEncoder.fit_transform(X) #the result is scipy.sparse.csr.csr_matrix\n",
    "#you need to convrt it back to array\n",
    "encoded_X = encoded_X.toarray()\n",
    "#return 1D array\n",
    "print(encoded_y.shape)\n",
    "#return 2D array with rows the same, but total columns = levels of all columns\n",
    "# np.unique(X[:,0]).size + np.unique(X[:,1]).size\n",
    "print(encoded_X.shape)"
   ]
  },
  {
   "cell_type": "code",
   "execution_count": 17,
   "metadata": {},
   "outputs": [
    {
     "data": {
      "text/html": [
       "<div>\n",
       "<style scoped>\n",
       "    .dataframe tbody tr th:only-of-type {\n",
       "        vertical-align: middle;\n",
       "    }\n",
       "\n",
       "    .dataframe tbody tr th {\n",
       "        vertical-align: top;\n",
       "    }\n",
       "\n",
       "    .dataframe thead th {\n",
       "        text-align: right;\n",
       "    }\n",
       "</style>\n",
       "<table border=\"1\" class=\"dataframe\">\n",
       "  <thead>\n",
       "    <tr style=\"text-align: right;\">\n",
       "      <th></th>\n",
       "      <th>cap-shape</th>\n",
       "      <th>cap-color</th>\n",
       "      <th>odor</th>\n",
       "      <th>gill-attachment</th>\n",
       "      <th>gill-spacing</th>\n",
       "      <th>gill-size</th>\n",
       "      <th>gill-color</th>\n",
       "      <th>stalk-shape</th>\n",
       "      <th>stalk-root</th>\n",
       "      <th>stalk-surface-above-ring</th>\n",
       "      <th>...</th>\n",
       "      <th>spore-print-color</th>\n",
       "      <th>population</th>\n",
       "      <th>habitat</th>\n",
       "      <th>class</th>\n",
       "      <th>cap-surface_f</th>\n",
       "      <th>cap-surface_g</th>\n",
       "      <th>cap-surface_s</th>\n",
       "      <th>cap-surface_y</th>\n",
       "      <th>bruises%3F_f</th>\n",
       "      <th>bruises%3F_t</th>\n",
       "    </tr>\n",
       "  </thead>\n",
       "  <tbody>\n",
       "    <tr>\n",
       "      <th>0</th>\n",
       "      <td>x</td>\n",
       "      <td>n</td>\n",
       "      <td>p</td>\n",
       "      <td>f</td>\n",
       "      <td>c</td>\n",
       "      <td>n</td>\n",
       "      <td>k</td>\n",
       "      <td>e</td>\n",
       "      <td>e</td>\n",
       "      <td>s</td>\n",
       "      <td>...</td>\n",
       "      <td>k</td>\n",
       "      <td>s</td>\n",
       "      <td>u</td>\n",
       "      <td>p</td>\n",
       "      <td>0</td>\n",
       "      <td>0</td>\n",
       "      <td>1</td>\n",
       "      <td>0</td>\n",
       "      <td>0</td>\n",
       "      <td>1</td>\n",
       "    </tr>\n",
       "    <tr>\n",
       "      <th>1</th>\n",
       "      <td>x</td>\n",
       "      <td>y</td>\n",
       "      <td>a</td>\n",
       "      <td>f</td>\n",
       "      <td>c</td>\n",
       "      <td>b</td>\n",
       "      <td>k</td>\n",
       "      <td>e</td>\n",
       "      <td>c</td>\n",
       "      <td>s</td>\n",
       "      <td>...</td>\n",
       "      <td>n</td>\n",
       "      <td>n</td>\n",
       "      <td>g</td>\n",
       "      <td>e</td>\n",
       "      <td>0</td>\n",
       "      <td>0</td>\n",
       "      <td>1</td>\n",
       "      <td>0</td>\n",
       "      <td>0</td>\n",
       "      <td>1</td>\n",
       "    </tr>\n",
       "  </tbody>\n",
       "</table>\n",
       "<p>2 rows × 27 columns</p>\n",
       "</div>"
      ],
      "text/plain": [
       "  cap-shape cap-color odor gill-attachment gill-spacing gill-size gill-color  \\\n",
       "0         x         n    p               f            c         n          k   \n",
       "1         x         y    a               f            c         b          k   \n",
       "\n",
       "  stalk-shape stalk-root stalk-surface-above-ring  ... spore-print-color  \\\n",
       "0           e          e                        s  ...                 k   \n",
       "1           e          c                        s  ...                 n   \n",
       "\n",
       "  population habitat class cap-surface_f cap-surface_g cap-surface_s  \\\n",
       "0          s       u     p             0             0             1   \n",
       "1          n       g     e             0             0             1   \n",
       "\n",
       "  cap-surface_y bruises%3F_f bruises%3F_t  \n",
       "0             0            0            1  \n",
       "1             0            0            1  \n",
       "\n",
       "[2 rows x 27 columns]"
      ]
     },
     "execution_count": 17,
     "metadata": {},
     "output_type": "execute_result"
    }
   ],
   "source": [
    "#Use get_dummies instead of OneHotEncoder for pandas dataframe\n",
    "import pandas as pd\n",
    "import numpy as np\n",
    "from sklearn.preprocessing import LabelEncoder\n",
    "from sklearn.preprocessing import OneHotEncoder\n",
    "from sklearn.preprocessing import OrdinalEncoder\n",
    "\n",
    "#1: using OrdinalEncoder\n",
    "OrdinalEncoder = OrdinalEncoder()\n",
    "#only encode a few columns from the dataset\n",
    "mushroom = pd.read_csv(\"/Users/yongpengfu/Desktop/AltaML/Encoding/mushroom_csv.csv\")\n",
    "#OrdinalEncoder only accepts dataframe, but not series\n",
    "mushroom.iloc[:, [1,3]] = OrdinalEncoder.fit_transform(mushroom.iloc[:, [1,3]])\n",
    "mushroom.head(2)\n",
    "\n",
    "#2: using get_dummies\n",
    "mushroom = pd.read_csv(\"/Users/yongpengfu/Desktop/AltaML/Encoding/mushroom_csv.csv\")\n",
    "#drop the previous column used for encoding and concatnate with the encoded ones\n",
    "new_mushroom = pd.concat([mushroom.drop(mushroom.columns[[1, 3]], axis = 1), pd.get_dummies(mushroom.iloc[:, [1,3]])], axis=1)\n",
    "new_mushroom.head(2)\n"
   ]
  },
  {
   "cell_type": "markdown",
   "metadata": {},
   "source": [
    "## 2: Feature Scaling\n",
    "\n",
    "- min-max scale the data between 0 and 1\n",
    "- StandardScaler"
   ]
  },
  {
   "cell_type": "code",
   "execution_count": 18,
   "metadata": {},
   "outputs": [
    {
     "name": "stdout",
     "output_type": "stream",
     "text": [
      "[[0.6875]\n",
      " [0.4375]\n",
      " [0.5   ]\n",
      " ...\n",
      " [0.625 ]\n",
      " [0.5625]\n",
      " [0.5   ]]\n",
      "\n",
      "[[ 1.18023096]\n",
      " [-0.91212912]\n",
      " [-0.3890391 ]\n",
      " ...\n",
      " [ 0.65714094]\n",
      " [ 0.13405092]\n",
      " [-0.3890391 ]]\n"
     ]
    }
   ],
   "source": [
    "#MinMaxScaler\n",
    "datasets_1919 = pd.read_csv(\"/Users/yongpengfu/Desktop/AltaML/Encoding/datasets_1919_3310_flavors_of_cacao.csv\")\n",
    "\n",
    "from sklearn.preprocessing import MinMaxScaler\n",
    "#initiate the model\n",
    "scaler = MinMaxScaler()\n",
    "#fit and transform directly\n",
    "print(scaler.fit_transform(datasets_1919[[\"Rating\"]]))\n",
    "print()\n",
    "\n",
    "\n",
    "#StandardScaler\n",
    "datasets_1919 = pd.read_csv(\"/Users/yongpengfu/Desktop/AltaML/Encoding/datasets_1919_3310_flavors_of_cacao.csv\")\n",
    "from sklearn.preprocessing import StandardScaler\n",
    "#initiate the model\n",
    "scaler = StandardScaler()\n",
    "#fit and transform directly\n",
    "print(scaler.fit_transform(datasets_1919[[\"Rating\"]]))\n"
   ]
  },
  {
   "cell_type": "markdown",
   "metadata": {},
   "source": []
  },
  {
   "cell_type": "markdown",
   "metadata": {},
   "source": []
  },
  {
   "cell_type": "markdown",
   "metadata": {},
   "source": []
  },
  {
   "cell_type": "markdown",
   "metadata": {},
   "source": [
    "# Unsupervised Learning\n",
    "- K-means clustering\n",
    "- Hierarchical clustering\n",
    "- Mean shift clustering\n",
    "- Dimensionality Reduction with PCA\n",
    "- Multidimensional Scaling (MDS)\n",
    "- ISOMAP: Extension of MDS\n",
    "- t-Distributed Stochastic Neighbour Embedding (t-SNE)"
   ]
  },
  {
   "cell_type": "markdown",
   "metadata": {},
   "source": [
    "## K-means clustering"
   ]
  },
  {
   "cell_type": "code",
   "execution_count": 19,
   "metadata": {},
   "outputs": [
    {
     "name": "stdout",
     "output_type": "stream",
     "text": [
      "inertia: 79.0120489607446\n",
      "\n",
      "clusters: \n",
      " [1 1 1 1 1 1 1 1 1 1 1 1 1 1 1 1 1 1 1 1 1 1 1 1 1 1 1 1 1 1 1 1 1 1 1 1 1\n",
      " 1 1 1 1 1 1 1 1 1 1 1 1 1 2 2 0 2 2 2 2 2 2 2 2 2 2 2 2 2 2 2 2 2 2 2 2 2\n",
      " 2 2 2 0 2 2 2 2 2 2 2 2 2 2 2 2 2 2 2 2 2 2 2 2 2 2 0 2 0 0 0 0 2 0 0 0 0\n",
      " 0 0 2 2 0 0 0 0 2 0 2 0 2 0 0 2 2 0 0 0 0 0 2 0 0 0 0 2 0 0 0 2 0 0 0 2 0\n",
      " 0 2]\n"
     ]
    }
   ],
   "source": [
    "from sklearn.datasets import load_iris\n",
    "from sklearn.cluster import KMeans\n",
    "\n",
    "#load the dataset (there is no taeget label, so only use X)\n",
    "X, _ = load_iris(return_X_y = True)\n",
    "#initiate the model\n",
    "kmeans = KMeans(n_clusters = 3, random_state = 0, tol = 0.01)\n",
    "#fit the model\n",
    "kmeans.fit(X)\n",
    "print(f'inertia: {kmeans.inertia_}\\n')\n",
    "print(f\"clusters: \\n {kmeans.predict(X)}\")"
   ]
  },
  {
   "cell_type": "markdown",
   "metadata": {},
   "source": [
    "## Hierarchical Clustering"
   ]
  },
  {
   "cell_type": "code",
   "execution_count": 20,
   "metadata": {},
   "outputs": [
    {
     "data": {
      "text/plain": [
       "array([1, 1, 1, 1, 1, 1, 1, 1, 1, 1, 1, 1, 1, 1, 1, 1, 1, 1, 1, 1, 1, 1,\n",
       "       1, 1, 1, 1, 1, 1, 1, 1, 1, 1, 1, 1, 1, 1, 1, 1, 1, 1, 1, 1, 1, 1,\n",
       "       1, 1, 1, 1, 1, 1, 0, 0, 0, 0, 0, 0, 0, 0, 0, 0, 0, 0, 0, 0, 0, 0,\n",
       "       0, 0, 0, 0, 0, 0, 0, 0, 0, 0, 0, 2, 0, 0, 0, 0, 0, 0, 0, 0, 0, 0,\n",
       "       0, 0, 0, 0, 0, 0, 0, 0, 0, 0, 0, 0, 2, 0, 2, 2, 2, 2, 0, 2, 2, 2,\n",
       "       2, 2, 2, 0, 0, 2, 2, 2, 2, 0, 2, 0, 2, 0, 2, 2, 0, 0, 2, 2, 2, 2,\n",
       "       2, 0, 0, 2, 2, 2, 0, 2, 2, 2, 0, 2, 2, 2, 0, 2, 2, 0])"
      ]
     },
     "execution_count": 20,
     "metadata": {},
     "output_type": "execute_result"
    }
   ],
   "source": [
    "from sklearn.datasets import load_iris\n",
    "from sklearn.cluster import AgglomerativeClustering\n",
    "\n",
    "#load the data\n",
    "X, _ = load_iris(return_X_y = True)\n",
    "#initiate\n",
    "agg_cluster = AgglomerativeClustering(n_clusters=3,linkage = 'ward')\n",
    "#fit and predict at the same time\n",
    "clusters = agg_cluster.fit_predict(X)\n",
    "clusters"
   ]
  },
  {
   "cell_type": "markdown",
   "metadata": {},
   "source": [
    "## Mean Shift Clustering\n",
    "The mean shift algorithm is a clustering algorithm that lies underneath the Hierachical Clustering Algorithms"
   ]
  },
  {
   "cell_type": "code",
   "execution_count": 21,
   "metadata": {},
   "outputs": [
    {
     "data": {
      "text/plain": [
       "array([1, 1, 1, 1, 1, 1, 1, 1, 1, 1, 1, 1, 1, 1, 1, 1, 1, 1, 1, 1, 1, 1,\n",
       "       1, 1, 1, 1, 1, 1, 1, 1, 1, 1, 1, 1, 1, 1, 1, 1, 1, 1, 1, 1, 1, 1,\n",
       "       1, 1, 1, 1, 1, 1, 0, 0, 0, 0, 0, 0, 0, 0, 0, 0, 0, 0, 0, 0, 0, 0,\n",
       "       0, 0, 0, 0, 0, 0, 0, 0, 0, 0, 0, 0, 0, 0, 0, 0, 0, 0, 0, 0, 0, 0,\n",
       "       0, 0, 0, 0, 0, 0, 0, 0, 0, 0, 1, 0, 0, 0, 0, 0, 0, 0, 0, 0, 0, 0,\n",
       "       0, 0, 0, 0, 0, 0, 0, 0, 0, 0, 0, 0, 0, 0, 0, 0, 0, 0, 0, 0, 0, 0,\n",
       "       0, 0, 0, 0, 0, 0, 0, 0, 0, 0, 0, 0, 0, 0, 0, 0, 0, 0])"
      ]
     },
     "execution_count": 21,
     "metadata": {},
     "output_type": "execute_result"
    }
   ],
   "source": [
    "from sklearn.datasets import load_iris\n",
    "from sklearn.cluster import MeanShift\n",
    "\n",
    "#load the dataset\n",
    "X, _ = load_iris(return_X_y = True)\n",
    "#initiate\n",
    "mean_shift = MeanShift(bandwidth = None)\n",
    "#fit and predict\n",
    "mean_shift.fit(X)\n",
    "clusters = mean_shift.predict(X)\n",
    "clusters"
   ]
  },
  {
   "cell_type": "code",
   "execution_count": 22,
   "metadata": {},
   "outputs": [
    {
     "data": {
      "text/plain": [
       "array([ 2, 14,  6, ...,  2,  0,  2])"
      ]
     },
     "execution_count": 22,
     "metadata": {},
     "output_type": "execute_result"
    }
   ],
   "source": [
    "import pandas as pd\n",
    "import numpy as np\n",
    "from sklearn.preprocessing import OneHotEncoder\n",
    "\n",
    "from sklearn.cluster import MeanShift\n",
    "\n",
    "#load the dataset\n",
    "mushroom = pd.read_csv(\"/Users/yongpengfu/Desktop/AltaML/Encoding/mushroom_csv.csv\")\n",
    "selected_X = mushroom.iloc[:,1:3].values\n",
    "encoded_X = OneHotEncoder().fit_transform(selected_X).toarray()\n",
    "#initiate\n",
    "mean_shift = MeanShift(bandwidth = 1.0)\n",
    "#fit and predict\n",
    "mean_shift.fit(encoded_X)\n",
    "clusters = mean_shift.predict(encoded_X)\n",
    "clusters"
   ]
  },
  {
   "cell_type": "markdown",
   "metadata": {},
   "source": [
    "## Dimensionality Reduction with PCA"
   ]
  },
  {
   "cell_type": "code",
   "execution_count": 23,
   "metadata": {},
   "outputs": [
    {
     "name": "stdout",
     "output_type": "stream",
     "text": [
      "The original X shape is: (1797, 64)\n",
      "Total 1797 samples and 64 features.\n",
      "So total 64 components are returned.\n",
      "\n",
      "The percentage of variance explained by the all components is: 64\n",
      "\n",
      "The prinicipal components can be used to explain feature.\n",
      "Each row in the in the components_ represent one component, so there are total 64 components.\n",
      "And each feature can then be explained by each column in components_\n",
      "The Principal axes in feature space is: (64, 64)\n",
      "\n",
      "The singular values corresponding to each of all components is 64\n",
      "What you end of doing the most is to compute the first two principal components for the entire digits dataset\n"
     ]
    },
    {
     "data": {
      "text/plain": [
       "(1797, 2)"
      ]
     },
     "execution_count": 23,
     "metadata": {},
     "output_type": "execute_result"
    }
   ],
   "source": [
    "import numpy as np\n",
    "from sklearn.datasets import load_digits\n",
    "from sklearn.decomposition import PCA\n",
    "\n",
    "#Load the data\n",
    "X,_ = load_digits(return_X_y = True)\n",
    "# n_comps = 15\n",
    "# cat = 4\n",
    "# pca = PCA(n_components=n_comps)\n",
    "# pca.fit(digits.data[digits.target == cat,:])\n",
    "#initiate the model\n",
    "pca = PCA(n_components= None) #normally just take the first 2 components\n",
    "#fit the model\n",
    "pca.fit(X)\n",
    "print(f'The original X shape is: {X.shape}')\n",
    "print(\"Total 1797 samples and 64 features.\\nSo total 64 components are returned.\\n\")\n",
    "#find the explained_variance_ratio_: \n",
    "#The amount of variance explained by each of all components.\n",
    "print(f\"The percentage of variance explained by the all components is: {len(pca.explained_variance_ratio_)}\\n\")\n",
    "#Principal axes in feature space, representing the directions of maximum variance in the data.\n",
    "#what it returns is first 2 principle components with the same number of columns as the sample\n",
    "#Total components is: n_components == min(n_samples, n_features)\n",
    "\n",
    "print(\"\"\"The prinicipal components can be used to explain feature.\n",
    "Each row in the in the components_ represent one component, so there are total 64 components.\n",
    "And each feature can then be explained by each column in components_\"\"\")\n",
    "print(f\"The Principal axes in feature space is: {pca.components_.shape}\\n\")\n",
    "#The singular values corresponding to each of the selected components.\n",
    "print(f\"The singular values corresponding to each of all components is {len(pca.singular_values_)}\")\n",
    "\n",
    "\n",
    "print(\"What you end of doing the most is to compute the first two principal components for the entire digits dataset\")\n",
    "pembedding = PCA(n_components=2)\n",
    "pca_transformed = pembedding.fit_transform(X)\n",
    "pca_transformed.shape #1797 samples, and 2 components"
   ]
  },
  {
   "cell_type": "markdown",
   "metadata": {},
   "source": [
    "## Multidimensional Scaling (MDS)\n",
    "Isomap builds a neighbourhood graph between points in the high dimensional space and uses the shortest distance between nodes as a measure of similarity.\n",
    "Each point is connected to a certain number of its closest (in the Euclidean sense) neighbours. Edge weights correspond to Euclidean distances.\n",
    "Dijkstra's algorithm can be used to compute shortest distances.\n",
    "Sensitive to initial conditions.\n",
    "Implemented in scikit-learn."
   ]
  },
  {
   "cell_type": "code",
   "execution_count": 24,
   "metadata": {},
   "outputs": [
    {
     "name": "stdout",
     "output_type": "stream",
     "text": [
      "(1797, 2)\n"
     ]
    },
    {
     "data": {
      "image/png": "[encoded data removed]",
      "text/plain": [
       "<Figure size 720x720 with 2 Axes>"
      ]
     },
     "metadata": {
      "needs_background": "light"
     },
     "output_type": "display_data"
    }
   ],
   "source": [
    "import numpy as np\n",
    "from sklearn.datasets import load_digits\n",
    "from sklearn.manifold import Isomap\n",
    "import matplotlib.pyplot as plt\n",
    "\n",
    "#Load the data\n",
    "X,_ = load_digits(return_X_y = True)\n",
    "\n",
    "embedding = Isomap(n_neighbors=6, n_components=2)\n",
    "iso_transformed = embedding.fit_transform(X)\n",
    "print(iso_transformed.shape)\n",
    "fig, ax = plt.subplots(figsize=(10,10))\n",
    "sc = ax.scatter(iso_transformed[:,0], iso_transformed[:,1])\n",
    "plt.colorbar(sc, spacing='proportional')\n",
    "plt.show()"
   ]
  }
 ],
 "metadata": {
  "kernelspec": {
   "display_name": "Python 3",
   "language": "python",
   "name": "python3"
  },
  "language_info": {
   "codemirror_mode": {
    "name": "ipython",
    "version": 3
   },
   "file_extension": ".py",
   "mimetype": "text/x-python",
   "name": "python",
   "nbconvert_exporter": "python",
   "pygments_lexer": "ipython3",
   "version": "3.8.3"
  }
 },
 "nbformat": 4,
 "nbformat_minor": 4
}
